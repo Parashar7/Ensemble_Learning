{
  "nbformat": 4,
  "nbformat_minor": 0,
  "metadata": {
    "colab": {
      "name": "LAb8.ipynb",
      "provenance": []
    },
    "kernelspec": {
      "name": "python3",
      "display_name": "Python 3"
    },
    "language_info": {
      "name": "python"
    }
  },
  "cells": [
    {
      "cell_type": "markdown",
      "source": [
        "# Ensemble Learning\n"
      ],
      "metadata": {
        "id": "KYck9K3SCvAK"
      }
    },
    {
      "cell_type": "markdown",
      "source": [
        "# The Technique (Ensemble Learning)\n",
        "\n",
        "Ensemble learning is a widely-used and preferred machine learning technique in which multiple individual models, often called base models, are combined to produce an effective optimal prediction model. **Bagging and Random Forest** algorithm are examples of ensemble learning.\n",
        "\n",
        "# Bagging\n",
        "Bagging, also known as Bootstrap aggregating, is an ensemble learning technique that helps to improve the performance and accuracy of machine learning algorithms. It is used to deal with bias-variance trade-offs and reduces the variance of a prediction model. Bagging avoids overfitting of data and is used for both regression and classification models, specifically for decision tree algorithms.\n",
        "\n",
        "# Random Forest\n",
        "Random forest is an ensemble model using bagging as the ensemble method and decision tree as the individual model."
      ],
      "metadata": {
        "id": "fksCA03KDAo9"
      }
    },
    {
      "cell_type": "markdown",
      "source": [
        "# The Problem\n",
        "We explicitly use ensemble learning to seek better predictive performance, such as lower error on regression or high accuracy for classification."
      ],
      "metadata": {
        "id": "XXsASOkHDBNb"
      }
    },
    {
      "cell_type": "markdown",
      "source": [
        "# Code"
      ],
      "metadata": {
        "id": "xrbjRpz9DDjc"
      }
    },
    {
      "cell_type": "code",
      "source": [
        "from sklearn.datasets import make_moons\n",
        "from sklearn.model_selection import train_test_split\n",
        "from sklearn.metrics import accuracy_score\n",
        "import numpy as np\n",
        "from sklearn.tree import DecisionTreeClassifier\n",
        "\n",
        "\n",
        "def bagging_fit(X, y, n_estimators, max_depth=5, max_samples=200):\n",
        "    n_examples = len(y)\n",
        "    estimators = [DecisionTreeClassifier(max_depth=max_depth)\n",
        "                  for _ in range(n_estimators)]\n",
        "\n",
        "    for tree in estimators:\n",
        "        bag = np.random.choice(n_examples, max_samples, replace=True)\n",
        "        tree.fit(X[bag, :], y[bag])\n",
        "\n",
        "    return estimators\n",
        "\n",
        "\n",
        "from scipy.stats import mode\n",
        "\n",
        "\n",
        "def bagging_predict(X, estimators):\n",
        "    all_predictions = np.array([tree.predict(X) for tree in estimators])\n",
        "    ypred, _ = mode(all_predictions, axis=0)\n",
        "    return np.squeeze(ypred)\n",
        "\n",
        "\n",
        "X, y = make_moons(n_samples=300, noise=.25, random_state=0)\n",
        "Xtrn, Xtst, ytrn, ytst = train_test_split(X, y, test_size=0.33)\n",
        "\n",
        "bag_ens = bagging_fit(Xtrn, ytrn, n_estimators=500,\n",
        "                      max_depth=12, max_samples=200)\n",
        "ypred = bagging_predict(Xtst, bag_ens)"
      ],
      "metadata": {
        "id": "uO9wDVhoFKov"
      },
      "execution_count": null,
      "outputs": []
    },
    {
      "cell_type": "markdown",
      "source": [
        "# Result of Bagging"
      ],
      "metadata": {
        "id": "kjho1gKwFf1G"
      }
    },
    {
      "cell_type": "code",
      "source": [
        "print('Accuracy of bagging', accuracy_score(ytst, ypred))"
      ],
      "metadata": {
        "colab": {
          "base_uri": "https://localhost:8080/"
        },
        "id": "VLJOo-2JFiPt",
        "outputId": "00b98e97-d7f2-4a32-bcb7-3d5e75eed2f5"
      },
      "execution_count": null,
      "outputs": [
        {
          "output_type": "stream",
          "name": "stdout",
          "text": [
            "Accuracy of bagging 0.9595959595959596\n"
          ]
        }
      ]
    },
    {
      "cell_type": "markdown",
      "source": [
        "# Results of Decision Tree"
      ],
      "metadata": {
        "id": "gOfS9wPTFpQQ"
      }
    },
    {
      "cell_type": "code",
      "source": [
        "# Using decision tree\n",
        "from sklearn.tree import DecisionTreeClassifier\n",
        "from sklearn.ensemble import BaggingClassifier\n",
        "\n",
        "base_estimator = DecisionTreeClassifier(max_depth=10)\n",
        "bag_ens = BaggingClassifier(base_estimator=base_estimator, n_estimators=500,\n",
        "                            max_samples=100, oob_score=True)\n",
        "bag_ens.fit(Xtrn, ytrn)\n",
        "ypred2 = bag_ens.predict(Xtst)\n",
        "\n",
        "print('OOB score ',bag_ens.oob_score_)\n",
        "print('Accuracy of decision tree',accuracy_score(ytst, ypred2))"
      ],
      "metadata": {
        "colab": {
          "base_uri": "https://localhost:8080/"
        },
        "id": "nLprDX3HFuAO",
        "outputId": "b9e844d2-fab0-481a-b821-00efb9058953"
      },
      "execution_count": null,
      "outputs": [
        {
          "output_type": "stream",
          "name": "stdout",
          "text": [
            "OOB score  0.9601990049751243\n",
            "Accuracy of decision tree 0.9595959595959596\n"
          ]
        }
      ]
    },
    {
      "cell_type": "markdown",
      "source": [
        "# Lab Assigned\n",
        "\n",
        "Apply KNN and compare the result with Bagging results."
      ],
      "metadata": {
        "id": "3n8aHp6PGPne"
      }
    },
    {
      "cell_type": "markdown",
      "source": [
        "# Code"
      ],
      "metadata": {
        "id": "9nZZjrYBGaxN"
      }
    },
    {
      "cell_type": "code",
      "source": [
        "from sklearn.model_selection import train_test_split\n",
        "\n",
        "X_train, X_test, y_train, y_test = train_test_split(X, y, test_size=0.20, random_state=0)\n",
        "\n",
        "from sklearn.preprocessing import StandardScaler\n",
        "\n",
        "scaler = StandardScaler()\n",
        "scaler.fit(X_train)\n",
        "\n",
        "X_train = scaler.transform(X_train)\n",
        "X_test = scaler.transform(X_test)\n",
        "from sklearn.neighbors import KNeighborsClassifier\n",
        "\n",
        "classifier = KNeighborsClassifier(n_neighbors=10, metric='euclidean')\n",
        "classifier.fit(X_train, y_train)\n",
        "\n",
        "y_pred = classifier.predict(X_test)\n",
        "from sklearn.metrics import classification_report, confusion_matrix"
      ],
      "metadata": {
        "id": "V4wl1g_oGckE"
      },
      "execution_count": null,
      "outputs": []
    },
    {
      "cell_type": "markdown",
      "source": [
        "# Results of KNN"
      ],
      "metadata": {
        "id": "tbEMtgUjGhih"
      }
    },
    {
      "cell_type": "markdown",
      "source": [
        "# Confusion Matrix"
      ],
      "metadata": {
        "id": "RC3AuTSOHmom"
      }
    },
    {
      "cell_type": "code",
      "source": [
        "print('KNN Confusion Matrix')\n",
        "print(confusion_matrix(y_test, y_pred))"
      ],
      "metadata": {
        "colab": {
          "base_uri": "https://localhost:8080/"
        },
        "id": "tumOOs7gHqbf",
        "outputId": "66e6b1c7-2b1c-4f24-9e7b-52aa0df08205"
      },
      "execution_count": null,
      "outputs": [
        {
          "output_type": "stream",
          "name": "stdout",
          "text": [
            "KNN Confusion Matrix\n",
            "[[22  1]\n",
            " [ 1 36]]\n"
          ]
        }
      ]
    },
    {
      "cell_type": "markdown",
      "source": [
        "# Classification Report"
      ],
      "metadata": {
        "id": "FY_MjjIqH-Wo"
      }
    },
    {
      "cell_type": "code",
      "source": [
        "print(classification_report(y_test, y_pred))"
      ],
      "metadata": {
        "colab": {
          "base_uri": "https://localhost:8080/"
        },
        "id": "7CLkkTKoGjVD",
        "outputId": "bb5cca56-e49b-406f-e67d-0edeab4adfe1"
      },
      "execution_count": null,
      "outputs": [
        {
          "output_type": "stream",
          "name": "stdout",
          "text": [
            "              precision    recall  f1-score   support\n",
            "\n",
            "           0       0.96      0.96      0.96        23\n",
            "           1       0.97      0.97      0.97        37\n",
            "\n",
            "    accuracy                           0.97        60\n",
            "   macro avg       0.96      0.96      0.96        60\n",
            "weighted avg       0.97      0.97      0.97        60\n",
            "\n"
          ]
        }
      ]
    },
    {
      "cell_type": "markdown",
      "source": [
        "# Conclusion\n",
        "\n",
        "Accuracy of Bagging algorithm is more than KNN algorithm."
      ],
      "metadata": {
        "id": "L6DJY10lIkdF"
      }
    }
  ]
}